{
 "cells": [
  {
   "cell_type": "code",
   "execution_count": 67,
   "id": "2423add5-5ec6-4349-8e52-429195e9f634",
   "metadata": {},
   "outputs": [],
   "source": [
    "import numpy as np\n",
    "import pandas as pd\n",
    "import matplotlib.pyplot as plt"
   ]
  },
  {
   "cell_type": "markdown",
   "id": "38a3846f-e779-452b-bf96-eeda68f1fbed",
   "metadata": {},
   "source": [
    "## PUNTO 1"
   ]
  },
  {
   "cell_type": "code",
   "execution_count": 79,
   "id": "49a7cc03-50f7-4164-a654-360777ffd3c6",
   "metadata": {},
   "outputs": [],
   "source": [
    "file=\"https://www.ngdc.noaa.gov/stp/space-weather/solar-data/solar-indices/sunspot-numbers/american/lists/list_aavso-arssn_daily.txt\"\n",
    "data=pd.read_csv(file,delim_whitespace=True,skiprows=1)"
   ]
  },
  {
   "cell_type": "code",
   "execution_count": 80,
   "id": "f6e4a9a1-1e5a-4920-9a25-525f10e6c1a8",
   "metadata": {},
   "outputs": [],
   "source": [
    "f=(data['Year']== 2012) & (data['Month']== 1) & (data['Day'] == 1)\n",
    "indice=int(data.index[f][0])\n",
    "indice+=1"
   ]
  },
  {
   "cell_type": "code",
   "execution_count": 81,
   "id": "311b9071-b894-47c3-a56e-d61f64f9dca4",
   "metadata": {
    "scrolled": true
   },
   "outputs": [
    {
     "data": {
      "text/html": [
       "<div>\n",
       "<style scoped>\n",
       "    .dataframe tbody tr th:only-of-type {\n",
       "        vertical-align: middle;\n",
       "    }\n",
       "\n",
       "    .dataframe tbody tr th {\n",
       "        vertical-align: top;\n",
       "    }\n",
       "\n",
       "    .dataframe thead th {\n",
       "        text-align: right;\n",
       "    }\n",
       "</style>\n",
       "<table border=\"1\" class=\"dataframe\">\n",
       "  <thead>\n",
       "    <tr style=\"text-align: right;\">\n",
       "      <th></th>\n",
       "      <th>Year</th>\n",
       "      <th>Month</th>\n",
       "      <th>Day</th>\n",
       "      <th>SSN</th>\n",
       "    </tr>\n",
       "  </thead>\n",
       "  <tbody>\n",
       "    <tr>\n",
       "      <th>0</th>\n",
       "      <td>1945</td>\n",
       "      <td>1</td>\n",
       "      <td>1</td>\n",
       "      <td>10.0</td>\n",
       "    </tr>\n",
       "    <tr>\n",
       "      <th>1</th>\n",
       "      <td>1945</td>\n",
       "      <td>1</td>\n",
       "      <td>2</td>\n",
       "      <td>0.0</td>\n",
       "    </tr>\n",
       "    <tr>\n",
       "      <th>2</th>\n",
       "      <td>1945</td>\n",
       "      <td>1</td>\n",
       "      <td>3</td>\n",
       "      <td>1.0</td>\n",
       "    </tr>\n",
       "    <tr>\n",
       "      <th>3</th>\n",
       "      <td>1945</td>\n",
       "      <td>1</td>\n",
       "      <td>4</td>\n",
       "      <td>2.0</td>\n",
       "    </tr>\n",
       "    <tr>\n",
       "      <th>4</th>\n",
       "      <td>1945</td>\n",
       "      <td>1</td>\n",
       "      <td>5</td>\n",
       "      <td>11.0</td>\n",
       "    </tr>\n",
       "    <tr>\n",
       "      <th>...</th>\n",
       "      <td>...</td>\n",
       "      <td>...</td>\n",
       "      <td>...</td>\n",
       "      <td>...</td>\n",
       "    </tr>\n",
       "    <tr>\n",
       "      <th>24467</th>\n",
       "      <td>2011</td>\n",
       "      <td>12</td>\n",
       "      <td>28</td>\n",
       "      <td>62.0</td>\n",
       "    </tr>\n",
       "    <tr>\n",
       "      <th>24468</th>\n",
       "      <td>2011</td>\n",
       "      <td>12</td>\n",
       "      <td>29</td>\n",
       "      <td>67.0</td>\n",
       "    </tr>\n",
       "    <tr>\n",
       "      <th>24469</th>\n",
       "      <td>2011</td>\n",
       "      <td>12</td>\n",
       "      <td>30</td>\n",
       "      <td>58.0</td>\n",
       "    </tr>\n",
       "    <tr>\n",
       "      <th>24470</th>\n",
       "      <td>2011</td>\n",
       "      <td>12</td>\n",
       "      <td>31</td>\n",
       "      <td>55.0</td>\n",
       "    </tr>\n",
       "    <tr>\n",
       "      <th>24471</th>\n",
       "      <td>2012</td>\n",
       "      <td>1</td>\n",
       "      <td>1</td>\n",
       "      <td>39.0</td>\n",
       "    </tr>\n",
       "  </tbody>\n",
       "</table>\n",
       "<p>24472 rows × 4 columns</p>\n",
       "</div>"
      ],
      "text/plain": [
       "       Year  Month  Day   SSN\n",
       "0      1945      1    1  10.0\n",
       "1      1945      1    2   0.0\n",
       "2      1945      1    3   1.0\n",
       "3      1945      1    4   2.0\n",
       "4      1945      1    5  11.0\n",
       "...     ...    ...  ...   ...\n",
       "24467  2011     12   28  62.0\n",
       "24468  2011     12   29  67.0\n",
       "24469  2011     12   30  58.0\n",
       "24470  2011     12   31  55.0\n",
       "24471  2012      1    1  39.0\n",
       "\n",
       "[24472 rows x 4 columns]"
      ]
     },
     "execution_count": 81,
     "metadata": {},
     "output_type": "execute_result"
    }
   ],
   "source": [
    "data=data.iloc[:indice]\n",
    "data"
   ]
  },
  {
   "cell_type": "markdown",
   "id": "96ff5b29-b906-42f8-9948-000cab6211c0",
   "metadata": {},
   "source": [
    "## PUNTO 1.1"
   ]
  },
  {
   "cell_type": "code",
   "execution_count": 82,
   "id": "85881124-b748-4e4b-be33-53063e7c308d",
   "metadata": {},
   "outputs": [
    {
     "data": {
      "text/plain": [
       "0        10.0\n",
       "1         0.0\n",
       "2         1.0\n",
       "3         2.0\n",
       "4        11.0\n",
       "         ... \n",
       "24467    62.0\n",
       "24468    67.0\n",
       "24469    58.0\n",
       "24470    55.0\n",
       "24471    39.0\n",
       "Name: SSN, Length: 24472, dtype: float64"
      ]
     },
     "execution_count": 82,
     "metadata": {},
     "output_type": "execute_result"
    }
   ],
   "source": [
    "data['SSN']"
   ]
  },
  {
   "cell_type": "code",
   "execution_count": 85,
   "id": "9e455068-daa6-4a45-aac9-bce72cb5f60b",
   "metadata": {},
   "outputs": [
    {
     "data": {
      "text/plain": [
       "0       -60.949657\n",
       "1       -70.949657\n",
       "2       -69.949657\n",
       "3       -68.949657\n",
       "4       -59.949657\n",
       "           ...    \n",
       "24467    -8.949657\n",
       "24468    -3.949657\n",
       "24469   -12.949657\n",
       "24470   -15.949657\n",
       "24471   -31.949657\n",
       "Name: SSN, Length: 24472, dtype: float64"
      ]
     },
     "execution_count": 85,
     "metadata": {},
     "output_type": "execute_result"
    }
   ],
   "source": [
    "datos=data['SSN']\n",
    "media_datos=np.mean(datos)\n",
    "datos-=media_datos\n",
    "#datos=np.abs(datos)\n",
    "datos"
   ]
  },
  {
   "cell_type": "code",
   "execution_count": 72,
   "id": "22619210-7a24-4933-b1a1-098475267e8b",
   "metadata": {
    "scrolled": true
   },
   "outputs": [],
   "source": [
    "\n",
    "datos=np.abs(datos)\n",
    "media_datos=np.mean(datos)\n",
    "Transformada=np.fft.fft(datos)\n",
    "norma_transformada=np.abs(Transformada)\n",
    "frecuencias=np.fft.fftfreq(len(datos),1.0)\n",
    "indice_max=np.argmax(norma_transformada)\n",
    "f_p=frecuencias[indice_max]"
   ]
  },
  {
   "cell_type": "code",
   "execution_count": 65,
   "id": "72ad97b0-24ad-45bc-8ca3-954c960f365f",
   "metadata": {},
   "outputs": [
    {
     "name": "stderr",
     "output_type": "stream",
     "text": [
      "/var/folders/wc/q8bq4xy97n3_jwd21hpc51y80000gn/T/ipykernel_5396/2336043575.py:1: RuntimeWarning: divide by zero encountered in scalar divide\n",
      "  p=1/f_p\n"
     ]
    },
    {
     "data": {
      "text/plain": [
       "inf"
      ]
     },
     "execution_count": 65,
     "metadata": {},
     "output_type": "execute_result"
    }
   ],
   "source": [
    "p=1/f_p\n",
    "p"
   ]
  },
  {
   "cell_type": "code",
   "execution_count": 66,
   "id": "c4002650-0aca-4216-bcc0-d437cb386f62",
   "metadata": {},
   "outputs": [
    {
     "data": {
      "text/plain": [
       "[<matplotlib.lines.Line2D at 0x7fce055ba4c0>]"
      ]
     },
     "execution_count": 66,
     "metadata": {},
     "output_type": "execute_result"
    },
    {
     "data": {
      "image/png": "[encoded data removed]",
      "text/plain": [
       "<Figure size 640x480 with 1 Axes>"
      ]
     },
     "metadata": {},
     "output_type": "display_data"
    }
   ],
   "source": [
    "plt.plot(frecuencias,norma_transformada)"
   ]
  },
  {
   "cell_type": "code",
   "execution_count": null,
   "id": "6c145df3-bffc-4ad3-8a0c-2ba56d57d13a",
   "metadata": {},
   "outputs": [],
   "source": []
  }
 ],
 "metadata": {
  "kernelspec": {
   "display_name": "Python 3 (ipykernel)",
   "language": "python",
   "name": "python3"
  },
  "language_info": {
   "codemirror_mode": {
    "name": "ipython",
    "version": 3
   },
   "file_extension": ".py",
   "mimetype": "text/x-python",
   "name": "python",
   "nbconvert_exporter": "python",
   "pygments_lexer": "ipython3",
   "version": "3.8.19"
  }
 },
 "nbformat": 4,
 "nbformat_minor": 5
}
